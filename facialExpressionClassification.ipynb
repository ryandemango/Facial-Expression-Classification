{
  "cells": [
    {
      "cell_type": "code",
      "execution_count": null,
      "metadata": {
        "id": "q3ZOeT7fHNZX"
      },
      "outputs": [],
      "source": [
        "from torch.optim import optimizer\n",
        "from pandas._libs import index\n",
        "import os\n",
        "import pandas as pd\n",
        "import torch\n",
        "import torch.nn as nn\n",
        "import torch.optim as optim\n",
        "import torch.nn.functional as F\n",
        "import torchvision\n",
        "from torch.utils.data import Dataset, DataLoader\n",
        "from torchvision import datasets, transforms\n",
        "from torchvision.utils import make_grid\n",
        "import numpy as np\n",
        "import math\n",
        "import matplotlib.pyplot as plt\n",
        "from tqdm import tqdm"
      ]
    },
    {
      "cell_type": "code",
      "execution_count": null,
      "metadata": {
        "colab": {
          "base_uri": "https://localhost:8080/"
        },
        "id": "YMwc30pGNkiV",
        "outputId": "cc6edc29-81c7-46ea-de85-826399ed03fc"
      },
      "outputs": [
        {
          "name": "stdout",
          "output_type": "stream",
          "text": [
            "Mounted at /content/drive\n"
          ]
        }
      ],
      "source": [
        "from google.colab import drive\n",
        "drive.mount('/content/drive')"
      ]
    },
    {
      "cell_type": "code",
      "execution_count": null,
      "metadata": {
        "id": "che_aXmIncJh"
      },
      "outputs": [],
      "source": [
        "class FacesDataset(Dataset):\n",
        "  def __init__(self):\n",
        "    x = np.loadtxt(('/content/drive/MyDrive/Assignment2Data/train_data.csv'), delimiter=\",\", dtype=(np.float32)) #specifing x as train_data and reading csv\n",
        "    y = np.loadtxt(('/content/drive/MyDrive/Assignment2Data/train_target.csv'),delimiter = \",\", dtype = (np.float32)) #setting targets data and reading csv\n",
        "    self.x = torch.from_numpy(x)#converting to torch tensor\n",
        "    self.x = self.x[:,:].reshape(16175,1,48,48) #reshaping to add chanel dimmension as well as converting the 2304 pixels into 48x48 dimmensions\n",
        "    self.y = torch.from_numpy(y)#converting to torch tensor\n",
        "\n",
        "\n",
        "    \n",
        "  def __getitem__(self,index):\n",
        "    return self.x[index], self.y[index]\n",
        "  def __len__(self):\n",
        "    return len(self.y)\n",
        "train_data = FacesDataset() #calling faces data set and initializing\n",
        "\n",
        "class testDataset(Dataset):\n",
        "  def __init__(self):\n",
        "    x = np.loadtxt(('/content/drive/MyDrive/Assignment2Data/test_data.csv'), delimiter=\",\", dtype=(np.float32))#specifying testing dataset\n",
        "    self.x = torch.from_numpy(x)\n",
        "    self.x = self.x[:,:].reshape(3965,1,48,48)#reshaping for grayscale chanel dimmension\n",
        "\n",
        "\n",
        "    \n",
        "  def __getitem__(self,index):\n",
        "    return self.x[index]\n",
        "  def __len__(self):\n",
        "    return len(self.x)\n",
        "test_data = testDataset() #calling test data set and intitializing\n",
        "\n"
      ]
    },
    {
      "cell_type": "code",
      "execution_count": null,
      "metadata": {
        "id": "4hxWzBCnzeQq"
      },
      "outputs": [],
      "source": [
        "emotions = ['Angry','Happy','Neutral'] # we dont use this because our predictions come out as 0,1,2\n"
      ]
    },
    {
      "cell_type": "code",
      "execution_count": null,
      "metadata": {
        "id": "frRJvh6JwMv8"
      },
      "outputs": [],
      "source": [
        "from torch.nn.modules.conv import Conv2d\n",
        "#conv model to process the given image data set\n",
        "class NN(nn.Module):\n",
        "  def __init__(self):\n",
        "    super(NN, self).__init__()\n",
        "    self.net = nn.Sequential(\n",
        "        nn.Conv2d(1,16,kernel_size=3, padding=1),#1 channel input due to grayscale images\n",
        "        nn.ReLU(),#computation saving\n",
        "        nn.Conv2d(16,32,kernel_size=3, padding=1), #conv layers will be taking the previous layers output as their input\n",
        "        nn.ReLU(),\n",
        "        nn.BatchNorm2d(32), #help speed up the training as well as stabalization\n",
        "        nn.MaxPool2d(2, 2),\n",
        "\n",
        "        nn.Conv2d(32,64, kernel_size=3, stride=1,padding=1),\n",
        "        nn.ReLU(),\n",
        "        nn.Conv2d(64,64, kernel_size=3, stride=1,padding=1),\n",
        "        nn.ReLU(),\n",
        "        nn.BatchNorm2d(64), #batch norm set to 64 to account for our last output\n",
        "        nn.MaxPool2d(2, 2),\n",
        "\n",
        "        nn.Conv2d(64,64, kernel_size=3, stride=1,padding=1),\n",
        "        nn.ReLU(),\n",
        "        nn.Dropout(0.2), #dropouts to prevent some over fitting\n",
        "        nn.Conv2d(64,64, kernel_size=3, stride=1,padding=1),\n",
        "        nn.ReLU(),\n",
        "        nn.Dropout(0.2),\n",
        "        nn.BatchNorm2d(64),\n",
        "        nn.MaxPool2d(2, 2),\n",
        "\n",
        "        nn.Conv2d(64,64, kernel_size=3, stride=1,padding=1),\n",
        "        nn.ReLU(),\n",
        "        nn.Dropout(0.2),\n",
        "        nn.Conv2d(64,128, kernel_size=3, stride=1,padding=1),\n",
        "        nn.ReLU(),\n",
        "        nn.Dropout(0.2),\n",
        "        nn.BatchNorm2d(128), #batchnorm to 128 to account for ouput\n",
        "        nn.MaxPool2d(2, 2),\n",
        "\n",
        "        nn.Conv2d(128,128,kernel_size=3, stride = 1, padding = 1),\n",
        "        nn.ReLU(),\n",
        "        nn.Dropout(0.25), #dropouts to help prevent over fitting\n",
        "        nn.Conv2d(128,128,kernel_size=3,stride =1, padding = 1),\n",
        "        nn.ReLU(),\n",
        "        nn.Dropout(0.25), #dropout\n",
        "        nn.BatchNorm2d(128),\n",
        "        nn.MaxPool2d(2, 2),\n",
        "\n",
        "        nn.Flatten(), #reshaping to be able to pass to next layer\n",
        "        nn.Linear(128*1*1, 1024),#connecting the network\n",
        "        nn.ReLU(),\n",
        "        nn.Dropout(0.3),\n",
        "        nn.Linear(1024,512),\n",
        "        nn.ReLU(),\n",
        "        nn.Dropout(0.4),\n",
        "        nn.Linear(512, 3)#outputting 3 for our number of emotions\n",
        ")\n",
        "\n",
        "  def forward(self,x):\n",
        "    return self.net(x)\n"
      ]
    },
    {
      "cell_type": "code",
      "execution_count": null,
      "metadata": {
        "colab": {
          "base_uri": "https://localhost:8080/"
        },
        "id": "Dr8xQAmMEjmN",
        "outputId": "0f73a7f6-a552-4c4f-8cef-489906d782bb"
      },
      "outputs": [
        {
          "name": "stdout",
          "output_type": "stream",
          "text": [
            "Using cuda device\n"
          ]
        }
      ],
      "source": [
        "device = \"cuda\" if torch.cuda.is_available() else \"cpu\"#specifying device\n",
        "print(f\"Using {device} device\")"
      ]
    },
    {
      "cell_type": "code",
      "execution_count": null,
      "metadata": {
        "id": "Ho5RS4_UEnnk"
      },
      "outputs": [],
      "source": [
        "#hyperparameters\n",
        "num_classes = 3 #number of classes or possible emotions\n",
        "learning_rate = 0.001\n",
        "batch_size = 5\n",
        "num_epoch = 20"
      ]
    },
    {
      "cell_type": "code",
      "execution_count": null,
      "metadata": {
        "colab": {
          "base_uri": "https://localhost:8080/"
        },
        "id": "9cC5QsTTE7ku",
        "outputId": "14ddeae1-e043-4126-8b2e-a0bd28b9b524"
      },
      "outputs": [
        {
          "name": "stdout",
          "output_type": "stream",
          "text": [
            "<class 'torch.Tensor'>\n",
            "torch.Size([5, 1, 48, 48])\n"
          ]
        }
      ],
      "source": [
        "train_loader = DataLoader(dataset = train_data, batch_size = batch_size,shuffle = True, num_workers = 2)#initializing train loader with shuffle\n",
        "test_loader = DataLoader(dataset = test_data, batch_size = batch_size,shuffle = False, num_workers = 2)\n",
        "dataiter = iter(test_loader)#iterating loader to get the shape of our inputs\n",
        "images = dataiter.next()\n",
        "print(type(images))\n",
        "print(images.shape) "
      ]
    },
    {
      "cell_type": "code",
      "execution_count": null,
      "metadata": {
        "id": "vp3SiectFtjw"
      },
      "outputs": [],
      "source": [
        "model = NN().to(device)\n",
        "#input_size = input_size, num_classes = num_classes"
      ]
    },
    {
      "cell_type": "code",
      "execution_count": null,
      "metadata": {
        "id": "FsjVZQBdF3ac"
      },
      "outputs": [],
      "source": [
        "weight_decay = 1e-4 # weight decay to try to prevent over fitting to training set\n",
        "criterion = nn.CrossEntropyLoss() #loss\n",
        "optimizer = optim.Adam(model.parameters(), lr = learning_rate, weight_decay = weight_decay)#using adam as optimizer"
      ]
    },
    {
      "cell_type": "code",
      "execution_count": null,
      "metadata": {
        "colab": {
          "background_save": true,
          "base_uri": "https://localhost:8080/"
        },
        "id": "mt0rhf-3Q5Aw",
        "outputId": "b420c325-b2af-49c4-bb22-510eb934bc79"
      },
      "outputs": [
        {
          "name": "stdout",
          "output_type": "stream",
          "text": [
            "epoch:  1\n"
          ]
        },
        {
          "name": "stderr",
          "output_type": "stream",
          "text": [
            "100%|██████████| 3235/3235 [00:40<00:00, 80.66it/s]\n"
          ]
        },
        {
          "name": "stdout",
          "output_type": "stream",
          "text": [
            "epoch:  2\n"
          ]
        },
        {
          "name": "stderr",
          "output_type": "stream",
          "text": [
            "100%|██████████| 3235/3235 [00:38<00:00, 83.22it/s]\n"
          ]
        },
        {
          "name": "stdout",
          "output_type": "stream",
          "text": [
            "epoch:  3\n"
          ]
        },
        {
          "name": "stderr",
          "output_type": "stream",
          "text": [
            "100%|██████████| 3235/3235 [00:39<00:00, 81.64it/s]\n"
          ]
        },
        {
          "name": "stdout",
          "output_type": "stream",
          "text": [
            "epoch:  4\n"
          ]
        },
        {
          "name": "stderr",
          "output_type": "stream",
          "text": [
            "100%|██████████| 3235/3235 [00:39<00:00, 82.84it/s]\n"
          ]
        },
        {
          "name": "stdout",
          "output_type": "stream",
          "text": [
            "epoch:  5\n"
          ]
        },
        {
          "name": "stderr",
          "output_type": "stream",
          "text": [
            "100%|██████████| 3235/3235 [00:39<00:00, 82.00it/s]\n"
          ]
        },
        {
          "name": "stdout",
          "output_type": "stream",
          "text": [
            "epoch:  6\n"
          ]
        },
        {
          "name": "stderr",
          "output_type": "stream",
          "text": [
            "100%|██████████| 3235/3235 [00:39<00:00, 81.07it/s]\n"
          ]
        },
        {
          "name": "stdout",
          "output_type": "stream",
          "text": [
            "epoch:  7\n"
          ]
        },
        {
          "name": "stderr",
          "output_type": "stream",
          "text": [
            "100%|██████████| 3235/3235 [00:39<00:00, 82.16it/s]\n"
          ]
        },
        {
          "name": "stdout",
          "output_type": "stream",
          "text": [
            "epoch:  8\n"
          ]
        },
        {
          "name": "stderr",
          "output_type": "stream",
          "text": [
            "100%|██████████| 3235/3235 [00:40<00:00, 80.67it/s]\n"
          ]
        },
        {
          "name": "stdout",
          "output_type": "stream",
          "text": [
            "epoch:  9\n"
          ]
        },
        {
          "name": "stderr",
          "output_type": "stream",
          "text": [
            "100%|██████████| 3235/3235 [00:39<00:00, 82.69it/s]\n"
          ]
        },
        {
          "name": "stdout",
          "output_type": "stream",
          "text": [
            "epoch:  10\n"
          ]
        },
        {
          "name": "stderr",
          "output_type": "stream",
          "text": [
            "100%|██████████| 3235/3235 [00:38<00:00, 83.40it/s]\n"
          ]
        },
        {
          "name": "stdout",
          "output_type": "stream",
          "text": [
            "epoch:  11\n"
          ]
        },
        {
          "name": "stderr",
          "output_type": "stream",
          "text": [
            "100%|██████████| 3235/3235 [00:39<00:00, 81.59it/s]\n"
          ]
        },
        {
          "name": "stdout",
          "output_type": "stream",
          "text": [
            "epoch:  12\n"
          ]
        },
        {
          "name": "stderr",
          "output_type": "stream",
          "text": [
            "100%|██████████| 3235/3235 [00:38<00:00, 83.35it/s]\n"
          ]
        },
        {
          "name": "stdout",
          "output_type": "stream",
          "text": [
            "epoch:  13\n"
          ]
        },
        {
          "name": "stderr",
          "output_type": "stream",
          "text": [
            "100%|██████████| 3235/3235 [00:39<00:00, 81.97it/s]\n"
          ]
        },
        {
          "name": "stdout",
          "output_type": "stream",
          "text": [
            "epoch:  14\n"
          ]
        },
        {
          "name": "stderr",
          "output_type": "stream",
          "text": [
            "100%|██████████| 3235/3235 [00:38<00:00, 83.42it/s]\n"
          ]
        },
        {
          "name": "stdout",
          "output_type": "stream",
          "text": [
            "epoch:  15\n"
          ]
        },
        {
          "name": "stderr",
          "output_type": "stream",
          "text": [
            "100%|██████████| 3235/3235 [00:39<00:00, 82.90it/s]\n"
          ]
        },
        {
          "name": "stdout",
          "output_type": "stream",
          "text": [
            "epoch:  16\n"
          ]
        },
        {
          "name": "stderr",
          "output_type": "stream",
          "text": [
            "100%|██████████| 3235/3235 [00:38<00:00, 83.23it/s]\n"
          ]
        },
        {
          "name": "stdout",
          "output_type": "stream",
          "text": [
            "epoch:  17\n"
          ]
        },
        {
          "name": "stderr",
          "output_type": "stream",
          "text": [
            "100%|██████████| 3235/3235 [00:39<00:00, 81.11it/s]\n"
          ]
        },
        {
          "name": "stdout",
          "output_type": "stream",
          "text": [
            "epoch:  18\n"
          ]
        },
        {
          "name": "stderr",
          "output_type": "stream",
          "text": [
            "100%|██████████| 3235/3235 [00:38<00:00, 84.47it/s]\n"
          ]
        },
        {
          "name": "stdout",
          "output_type": "stream",
          "text": [
            "epoch:  19\n"
          ]
        },
        {
          "name": "stderr",
          "output_type": "stream",
          "text": [
            "100%|██████████| 3235/3235 [00:38<00:00, 83.73it/s]\n"
          ]
        },
        {
          "name": "stdout",
          "output_type": "stream",
          "text": [
            "epoch:  20\n"
          ]
        },
        {
          "name": "stderr",
          "output_type": "stream",
          "text": [
            "100%|██████████| 3235/3235 [00:37<00:00, 85.87it/s]\n"
          ]
        },
        {
          "name": "stdout",
          "output_type": "stream",
          "text": [
            "tensor(85.2303, device='cuda:0')\n"
          ]
        }
      ],
      "source": [
        "#training model\n",
        "ep = 0\n",
        "loss_list = []\n",
        "\n",
        "for epoch in range(num_epoch):\n",
        "  running_loss = 0\n",
        "  corr = 0\n",
        "  tot = 0\n",
        "  ep += 1\n",
        "  print(\"epoch: \",ep)\n",
        "  model.train()#training mode\n",
        "  for ind, (data,target) in enumerate(tqdm(train_loader)): #iterating through train loader\n",
        "    target = target.type(torch.LongTensor)\n",
        "    data = data.to(device = device)\n",
        "    target = target.to(device = device)\n",
        "    scores = model(data)#feeding training data into model\n",
        "    #print(scores)\n",
        "    loss = criterion(scores, target)#using criterion to calculate the loss function with CrossEntropy\n",
        "    optimizer.zero_grad()#optimizer\n",
        "    loss.backward()#back prop\n",
        "    optimizer.step()#optimizer step\n",
        "    running_loss += loss.item() #keeping track of loss\n",
        "  train_loss = running_loss/len(train_loader)\n",
        "  loss_list.append(train_loss)#appending to loss list for graphing\n",
        "\n",
        "def check_accuracy(loader, model): #checking accuracy of training set\n",
        "  correct = 0\n",
        "  samples = 0\n",
        "  model.eval()\n",
        "  with torch.no_grad():\n",
        "    for x, y in loader:\n",
        "      x = x.to(device=device)\n",
        "      y = y.to(device=device)\n",
        "      scores = model(x)\n",
        "      #print(scores)\n",
        "      _, predictions = scores.max(1)\n",
        "      #print(predictions)\n",
        "      correct += (predictions == y).sum()\n",
        "      samples += predictions.size(0)\n",
        "    model.train()\n",
        "    return correct/samples\n",
        "accuracy = check_accuracy(train_loader,model)\n",
        "print(accuracy*100)\n"
      ]
    },
    {
      "cell_type": "code",
      "execution_count": null,
      "metadata": {
        "colab": {
          "background_save": true
        },
        "id": "GAqz5_JBg2-C"
      },
      "outputs": [],
      "source": [
        "PATH = 'model contents'#name of model file when saved\n",
        "torch.save(model, PATH)#saving model"
      ]
    },
    {
      "cell_type": "code",
      "execution_count": null,
      "metadata": {
        "colab": {
          "background_save": true
        },
        "id": "nipQC9QghYkG",
        "outputId": "e54654e8-bc97-4373-e17f-d303c51aefcb"
      },
      "outputs": [
        {
          "name": "stdout",
          "output_type": "stream",
          "text": [
            "[0, 0, 1, 1, 2, 0, 2, 1, 1, 1, 2, 0, 1, 1, 1, 2, 1, 1, 2, 1, 2, 1, 1, 1, 1, 0, 0, 1, 2, 0, 1, 2, 2, 1, 1, 1, 1, 2, 1, 1, 1, 1, 0, 2, 0, 1, 1, 1, 0, 0, 1, 1, 0, 0, 0, 2, 0, 0, 1, 1, 1, 0, 1, 2, 0, 1, 1, 1, 1, 1, 1, 1, 2, 1, 1, 2, 0, 1, 1, 2, 1, 2, 1, 2, 1, 0, 2, 1, 2, 1, 2, 1, 2, 2, 0, 1, 2, 1, 1, 2, 0, 2, 0, 0, 1, 1, 0, 1, 1, 1, 0, 2, 1, 1, 2, 0, 0, 2, 2, 0, 2, 1, 0, 1, 1, 0, 2, 0, 1, 2, 0, 1, 2, 2, 0, 1, 1, 1, 2, 2, 2, 2, 2, 1, 2, 1, 1, 0, 1, 2, 2, 0, 2, 0, 2, 2, 2, 1, 1, 1, 1, 0, 2, 2, 1, 2, 2, 1, 1, 1, 2, 2, 0, 0, 1, 2, 0, 2, 1, 2, 2, 0, 2, 0, 1, 1, 2, 2, 0, 2, 1, 1, 2, 2, 2, 2, 1, 1, 0, 1, 1, 1, 1, 1, 2, 1, 1, 2, 2, 2, 1, 0, 1, 2, 1, 0, 2, 2, 1, 2, 0, 0, 1, 2, 0, 0, 1, 0, 2, 1, 0, 2, 1, 0, 0, 1, 1, 2, 1, 2, 2, 2, 2, 1, 1, 2, 1, 1, 0, 0, 2, 0, 1, 0, 0, 1, 1, 1, 1, 2, 2, 0, 1, 0, 2, 0, 2, 2, 2, 1, 0, 0, 1, 2, 2, 1, 2, 2, 1, 1, 1, 2, 1, 1, 0, 2, 0, 2, 2, 2, 0, 0, 0, 2, 0, 2, 1, 1, 2, 0, 1, 0, 0, 1, 2, 1, 2, 0, 2, 2, 2, 2, 0, 2, 1, 2, 2, 1, 1, 2, 0, 0, 2, 1, 1, 0, 1, 1, 1, 2, 2, 1, 1, 0, 0, 2, 2, 1, 2, 1, 2, 0, 1, 1, 1, 1, 2, 1, 1, 2, 1, 2, 2, 0, 0, 1, 0, 2, 1, 2, 1, 2, 2, 1, 1, 1, 1, 0, 0, 1, 2, 2, 2, 2, 2, 1, 2, 2, 0, 2, 0, 2, 1, 2, 2, 0, 0, 2, 2, 0, 2, 2, 0, 0, 0, 1, 1, 1, 2, 1, 2, 0, 1, 0, 1, 1, 0, 0, 2, 2, 2, 0, 2, 1, 1, 2, 0, 0, 1, 1, 0, 1, 2, 0, 2, 1, 2, 0, 2, 0, 1, 0, 1, 2, 1, 0, 1, 1, 1, 2, 2, 2, 1, 1, 1, 0, 2, 1, 0, 2, 1, 2, 1, 1, 1, 1, 1, 2, 1, 2, 1, 2, 2, 1, 1, 2, 2, 0, 1, 2, 1, 1, 0, 0, 0, 0, 0, 2, 0, 2, 0, 1, 1, 1, 1, 1, 2, 1, 0, 1, 1, 0, 2, 0, 2, 1, 2, 2, 1, 2, 0, 1, 0, 1, 2, 0, 0, 1, 1, 2, 2, 0, 1, 0, 1, 0, 1, 1, 1, 0, 1, 2, 1, 2, 0, 2, 1, 0, 2, 1, 1, 1, 1, 0, 1, 2, 1, 2, 1, 0, 2, 0, 2, 0, 0, 0, 2, 1, 1, 2, 1, 1, 0, 1, 0, 0, 2, 2, 2, 1, 0, 1, 1, 2, 0, 2, 2, 2, 2, 0, 2, 2, 2, 0, 2, 0, 1, 1, 1, 1, 1, 2, 0, 2, 2, 2, 0, 0, 1, 0, 0, 2, 0, 1, 1, 2, 1, 2, 2, 0, 2, 0, 2, 1, 0, 2, 1, 2, 1, 0, 0, 0, 0, 2, 0, 2, 2, 1, 2, 1, 2, 1, 1, 1, 2, 2, 2, 0, 1, 1, 2, 2, 0, 1, 1, 2, 0, 0, 1, 1, 2, 1, 1, 1, 2, 2, 2, 1, 2, 1, 2, 2, 2, 1, 2, 1, 2, 1, 1, 1, 2, 0, 0, 1, 2, 2, 2, 0, 2, 1, 1, 2, 1, 2, 1, 0, 0, 2, 1, 2, 2, 1, 1, 1, 0, 0, 0, 2, 1, 1, 1, 2, 0, 0, 1, 2, 0, 2, 0, 0, 2, 2, 1, 2, 2, 2, 2, 1, 1, 2, 1, 0, 1, 1, 2, 1, 0, 1, 2, 1, 1, 1, 2, 1, 0, 0, 2, 1, 1, 1, 2, 1, 1, 1, 2, 2, 1, 2, 0, 2, 2, 1, 2, 2, 1, 1, 2, 1, 0, 1, 1, 0, 0, 2, 2, 0, 2, 0, 1, 0, 2, 2, 1, 0, 2, 1, 2, 2, 1, 1, 1, 2, 2, 2, 1, 1, 2, 2, 2, 1, 0, 1, 1, 2, 2, 2, 2, 1, 2, 0, 1, 1, 1, 1, 2, 2, 1, 2, 1, 0, 1, 1, 0, 1, 1, 1, 0, 1, 2, 1, 0, 1, 0, 2, 0, 2, 2, 0, 1, 2, 2, 1, 1, 0, 1, 1, 0, 2, 1, 1, 2, 1, 2, 0, 1, 0, 2, 1, 0, 1, 0, 2, 1, 2, 2, 0, 1, 2, 1, 1, 1, 1, 2, 1, 2, 0, 2, 0, 1, 2, 2, 1, 1, 0, 2, 0, 0, 0, 2, 1, 1, 1, 1, 1, 1, 2, 2, 1, 0, 2, 1, 0, 1, 0, 1, 2, 2, 1, 2, 1, 2, 1, 2, 1, 0, 1, 0, 2, 2, 1, 0, 2, 1, 0, 2, 0, 0, 1, 2, 1, 1, 2, 0, 0, 0, 2, 1, 2, 2, 0, 2, 2, 1, 2, 1, 0, 1, 2, 0, 0, 1, 0, 1, 0, 0, 1, 2, 1, 1, 0, 2, 1, 2, 2, 1, 1, 0, 2, 2, 0, 1, 0, 2, 1, 2, 1, 2, 2, 1, 0, 0, 2, 2, 1, 0, 2, 1, 2, 1, 0, 1, 2, 0, 1, 1, 2, 1, 2, 1, 2, 0, 1, 2, 1, 0, 1, 1, 1, 2, 2, 1, 1, 0, 1, 0, 0, 1, 1, 2, 1, 0, 1, 1, 1, 1, 2, 1, 1, 1, 0, 2, 1, 1, 1, 1, 1, 0, 0, 2, 2, 1, 0, 1, 2, 0, 2, 1, 0, 1, 0, 0, 2, 0, 1, 1, 0, 0, 0, 0, 2, 1, 2, 2, 1, 0, 0, 1, 0, 1, 1, 0, 1, 2, 2, 0, 0, 0, 2, 1, 1, 2, 2, 1, 2, 1, 0, 1, 1, 0, 2, 0, 0, 2, 0, 2, 1, 0, 2, 2, 2, 1, 2, 2, 0, 0, 2, 0, 2, 0, 2, 2, 2, 1, 2, 1, 0, 1, 1, 1, 2, 0, 1, 0, 1, 0, 2, 1, 0, 0, 1, 1, 2, 1, 1, 1, 1, 2, 2, 0, 0, 0, 0, 1, 2, 1, 2, 1, 1, 0, 1, 0, 2, 1, 1, 0, 1, 2, 2, 2, 1, 2, 2, 1, 2, 1, 1, 1, 0, 1, 0, 0, 1, 2, 2, 0, 0, 2, 0, 1, 0, 1, 2, 2, 2, 2, 0, 0, 1, 2, 2, 1, 1, 1, 1, 0, 1, 0, 2, 1, 0, 0, 1, 2, 0, 2, 2, 1, 1, 0, 1, 1, 0, 1, 1, 1, 1, 2, 2, 1, 1, 1, 1, 1, 2, 0, 1, 2, 1, 0, 1, 1, 1, 2, 2, 1, 2, 2, 0, 2, 1, 0, 2, 2, 1, 2, 1, 1, 1, 2, 1, 1, 2, 1, 0, 0, 1, 2, 2, 2, 1, 1, 1, 0, 2, 2, 1, 2, 1, 0, 0, 1, 2, 0, 1, 1, 1, 2, 1, 1, 2, 1, 2, 0, 0, 1, 2, 0, 1, 1, 0, 1, 2, 2, 0, 1, 2, 1, 0, 2, 1, 2, 1, 1, 0, 1, 1, 1, 2, 2, 0, 1, 2, 1, 1, 1, 1, 1, 0, 0, 0, 2, 1, 2, 2, 2, 1, 2, 2, 2, 1, 0, 1, 1, 2, 2, 2, 1, 0, 1, 1, 1, 1, 1, 1, 2, 1, 1, 1, 1, 1, 1, 2, 2, 2, 2, 2, 0, 1, 2, 0, 1, 1, 0, 2, 1, 1, 1, 2, 1, 1, 1, 0, 1, 2, 2, 1, 0, 1, 2, 2, 0, 1, 0, 1, 1, 0, 0, 2, 1, 0, 2, 2, 2, 1, 0, 2, 1, 2, 2, 1, 2, 2, 0, 0, 0, 1, 0, 2, 2, 0, 2, 0, 2, 2, 0, 1, 2, 1, 1, 2, 2, 0, 0, 2, 2, 1, 1, 0, 2, 1, 1, 1, 1, 2, 2, 1, 1, 2, 2, 0, 0, 1, 0, 0, 1, 1, 0, 0, 2, 0, 2, 1, 2, 2, 2, 0, 1, 0, 2, 2, 2, 0, 1, 1, 2, 1, 2, 0, 0, 2, 2, 1, 1, 1, 2, 0, 1, 1, 1, 1, 0, 0, 2, 2, 1, 2, 2, 1, 0, 1, 0, 2, 1, 2, 2, 2, 0, 2, 1, 1, 1, 1, 1, 1, 2, 0, 2, 2, 1, 2, 1, 1, 1, 1, 1, 2, 1, 0, 0, 1, 1, 0, 0, 2, 1, 2, 2, 0, 1, 2, 1, 1, 0, 1, 0, 1, 2, 1, 1, 0, 1, 2, 2, 1, 2, 1, 0, 2, 0, 0, 0, 0, 0, 0, 0, 0, 0, 1, 0, 1, 1, 1, 2, 1, 0, 2, 2, 2, 1, 1, 2, 1, 1, 1, 0, 0, 2, 2, 2, 1, 2, 1, 2, 2, 0, 1, 1, 1, 1, 1, 0, 2, 1, 0, 2, 0, 0, 0, 0, 1, 0, 0, 0, 1, 0, 1, 0, 1, 0, 2, 1, 2, 2, 2, 1, 1, 0, 1, 1, 0, 2, 1, 0, 2, 1, 1, 1, 2, 1, 0, 0, 1, 0, 1, 0, 1, 0, 0, 0, 2, 1, 0, 2, 1, 2, 2, 2, 2, 2, 1, 1, 0, 0, 2, 2, 1, 2, 2, 0, 2, 1, 1, 1, 1, 2, 0, 2, 1, 0, 1, 2, 1, 2, 1, 1, 1, 1, 1, 1, 0, 0, 2, 1, 1, 0, 1, 1, 0, 1, 2, 1, 1, 1, 0, 0, 2, 1, 1, 1, 1, 0, 1, 1, 1, 1, 1, 0, 1, 1, 1, 2, 1, 1, 0, 2, 2, 2, 0, 1, 1, 1, 2, 2, 1, 2, 0, 0, 1, 1, 2, 1, 2, 1, 1, 1, 1, 2, 2, 1, 1, 2, 1, 2, 2, 1, 2, 1, 2, 1, 1, 1, 1, 1, 2, 2, 0, 1, 1, 2, 0, 1, 1, 2, 2, 2, 0, 0, 1, 0, 0, 2, 0, 2, 2, 1, 1, 1, 2, 0, 0, 1, 1, 2, 1, 0, 2, 2, 1, 2, 1, 0, 1, 1, 2, 2, 0, 0, 1, 1, 1, 1, 0, 0, 0, 0, 0, 0, 1, 2, 2, 1, 2, 2, 1, 0, 1, 1, 1, 2, 2, 1, 1, 1, 2, 2, 0, 2, 2, 1, 2, 1, 2, 1, 2, 2, 0, 2, 1, 1, 1, 1, 1, 1, 1, 1, 1, 1, 2, 1, 1, 1, 1, 1, 0, 1, 1, 2, 0, 1, 0, 1, 0, 2, 1, 2, 2, 0, 1, 1, 0, 2, 2, 1, 0, 2, 0, 2, 0, 1, 0, 2, 1, 0, 2, 1, 1, 2, 2, 2, 1, 0, 1, 2, 1, 1, 1, 2, 2, 2, 1, 2, 1, 1, 2, 1, 0, 1, 1, 2, 1, 2, 2, 0, 1, 1, 1, 1, 0, 0, 1, 2, 1, 1, 0, 2, 1, 2, 2, 1, 1, 2, 0, 2, 1, 2, 2, 1, 1, 2, 0, 1, 1, 0, 1, 1, 1, 1, 0, 0, 2, 0, 0, 0, 1, 1, 2, 1, 1, 1, 2, 2, 1, 2, 2, 1, 2, 1, 1, 2, 0, 0, 1, 1, 0, 1, 1, 0, 0, 0, 1, 2, 1, 1, 2, 0, 0, 1, 0, 1, 1, 2, 1, 1, 1, 2, 2, 1, 2, 1, 0, 1, 1, 1, 1, 1, 1, 1, 1, 1, 2, 1, 1, 1, 2, 1, 1, 1, 2, 2, 0, 0, 1, 1, 0, 2, 2, 0, 0, 2, 2, 0, 2, 2, 2, 2, 2, 2, 1, 0, 2, 2, 1, 0, 1, 2, 1, 2, 1, 1, 2, 2, 1, 2, 0, 0, 1, 1, 2, 1, 1, 1, 0, 1, 2, 0, 1, 1, 0, 0, 2, 1, 0, 1, 0, 1, 1, 1, 0, 1, 1, 1, 1, 1, 0, 2, 2, 1, 2, 2, 1, 0, 0, 0, 0, 0, 1, 0, 2, 1, 1, 1, 0, 0, 1, 2, 1, 1, 2, 2, 2, 1, 1, 1, 2, 0, 1, 1, 2, 0, 1, 1, 2, 1, 0, 0, 2, 1, 1, 0, 0, 0, 0, 1, 1, 2, 1, 2, 1, 2, 1, 0, 1, 1, 0, 2, 2, 2, 1, 2, 2, 2, 2, 1, 0, 1, 1, 2, 1, 2, 2, 2, 0, 1, 2, 0, 2, 0, 0, 1, 0, 0, 0, 0, 1, 1, 1, 0, 2, 1, 0, 2, 0, 0, 0, 1, 0, 1, 1, 1, 0, 1, 1, 1, 1, 1, 2, 1, 0, 0, 0, 1, 0, 0, 1, 1, 0, 2, 1, 1, 1, 1, 0, 1, 1, 1, 1, 1, 0, 1, 2, 2, 2, 1, 0, 2, 1, 1, 0, 0, 0, 2, 2, 1, 2, 1, 0, 0, 1, 2, 0, 1, 2, 0, 1, 1, 0, 1, 2, 1, 2, 2, 1, 2, 2, 1, 1, 2, 2, 0, 2, 0, 1, 2, 0, 1, 1, 0, 1, 0, 1, 1, 2, 0, 2, 1, 1, 0, 1, 1, 1, 2, 1, 2, 1, 1, 1, 0, 2, 2, 0, 0, 2, 2, 2, 1, 1, 2, 1, 0, 1, 0, 2, 0, 2, 2, 2, 1, 0, 0, 2, 0, 1, 2, 2, 0, 0, 1, 1, 0, 0, 0, 2, 2, 2, 1, 2, 2, 2, 0, 1, 2, 1, 1, 2, 1, 2, 1, 2, 1, 0, 2, 1, 1, 1, 1, 2, 0, 0, 0, 0, 1, 0, 2, 2, 0, 1, 0, 0, 1, 1, 1, 1, 1, 1, 0, 1, 2, 0, 0, 1, 2, 0, 2, 1, 2, 1, 1, 0, 2, 2, 0, 2, 2, 0, 0, 1, 1, 0, 1, 2, 2, 2, 1, 2, 0, 1, 1, 2, 1, 1, 1, 2, 1, 1, 0, 0, 2, 1, 1, 1, 2, 1, 1, 1, 1, 1, 1, 0, 0, 0, 2, 0, 0, 2, 0, 0, 1, 1, 0, 1, 2, 1, 1, 1, 1, 1, 0, 1, 2, 2, 2, 0, 1, 1, 1, 0, 1, 0, 1, 2, 1, 1, 1, 1, 1, 1, 2, 0, 0, 2, 2, 2, 0, 0, 1, 0, 0, 0, 1, 1, 0, 2, 0, 1, 1, 2, 0, 1, 1, 1, 2, 1, 2, 1, 1, 2, 0, 0, 1, 0, 1, 2, 1, 2, 1, 0, 1, 2, 1, 2, 2, 0, 1, 1, 2, 2, 0, 2, 2, 1, 1, 0, 2, 2, 0, 1, 0, 1, 0, 1, 2, 1, 1, 1, 2, 1, 1, 1, 1, 2, 0, 2, 1, 2, 1, 2, 1, 1, 1, 0, 2, 1, 0, 2, 2, 0, 2, 0, 1, 0, 1, 1, 1, 1, 1, 2, 1, 1, 0, 2, 1, 0, 1, 1, 2, 2, 0, 1, 0, 1, 0, 0, 0, 1, 2, 1, 0, 0, 1, 2, 2, 1, 1, 1, 2, 2, 1, 0, 1, 0, 0, 1, 1, 1, 1, 0, 1, 2, 2, 1, 0, 1, 1, 1, 0, 2, 1, 0, 0, 0, 0, 1, 2, 1, 2, 1, 1, 1, 1, 1, 2, 2, 1, 2, 0, 1, 2, 1, 1, 0, 0, 1, 1, 1, 1, 1, 1, 0, 1, 1, 2, 1, 0, 1, 1, 0, 2, 0, 2, 0, 1, 1, 1, 1, 2, 1, 2, 1, 1, 2, 1, 1, 1, 2, 0, 1, 0, 1, 1, 0, 1, 0, 2, 2, 2, 0, 1, 1, 1, 1, 1, 2, 0, 0, 0, 1, 2, 2, 1, 1, 2, 1, 0, 2, 2, 1, 1, 0, 0, 1, 1, 1, 2, 0, 2, 2, 2, 1, 0, 0, 2, 0, 1, 0, 1, 1, 1, 1, 0, 2, 1, 1, 1, 2, 2, 1, 2, 0, 2, 1, 1, 2, 0, 1, 2, 1, 1, 2, 2, 1, 1, 2, 1, 2, 1, 1, 2, 1, 1, 2, 0, 2, 2, 1, 1, 0, 1, 1, 2, 0, 1, 1, 2, 2, 2, 0, 1, 1, 2, 2, 0, 0, 0, 1, 2, 0, 2, 2, 1, 2, 2, 0, 0, 0, 2, 1, 1, 2, 2, 1, 2, 1, 1, 1, 1, 1, 2, 0, 1, 1, 0, 1, 2, 1, 1, 0, 1, 1, 2, 2, 0, 1, 1, 2, 1, 0, 1, 2, 2, 1, 1, 1, 2, 1, 1, 0, 1, 1, 1, 0, 0, 0, 1, 2, 2, 2, 2, 1, 2, 2, 1, 2, 2, 0, 1, 1, 0, 1, 2, 2, 0, 1, 0, 2, 1, 1, 1, 2, 1, 1, 1, 2, 1, 0, 1, 1, 2, 2, 2, 0, 2, 0, 0, 1, 1, 0, 1, 0, 2, 1, 0, 1, 0, 2, 2, 2, 1, 1, 1, 2, 2, 2, 1, 1, 2, 1, 2, 2, 1, 0, 2, 2, 0, 1, 1, 1, 0, 0, 1, 1, 2, 2, 1, 1, 2, 1, 1, 2, 0, 2, 2, 1, 0, 1, 1, 2, 0, 0, 1, 2, 0, 2, 0, 2, 1, 2, 2, 1, 1, 0, 1, 2, 0, 1, 1, 0, 0, 2, 0, 1, 2, 0, 0, 2, 0, 2, 1, 2, 2, 2, 2, 1, 1, 1, 2, 0, 1, 1, 1, 2, 0, 0, 2, 0, 1, 2, 1, 0, 1, 0, 1, 0, 1, 2, 2, 1, 0, 2, 1, 2, 2, 1, 1, 2, 2, 1, 1, 1, 1, 1, 2, 1, 2, 1, 2, 0, 2, 1, 2, 2, 0, 0, 2, 1, 1, 1, 0, 1, 0, 2, 0, 1, 1, 1, 0, 0, 1, 2, 1, 0, 1, 2, 1, 1, 1, 0, 1, 2, 0, 0, 1, 2, 0, 0, 1, 2, 2, 2, 2, 1, 2, 2, 0, 0, 0, 2, 2, 2, 1, 0, 2, 1, 1, 1, 1, 1, 1, 1, 2, 1, 1, 2, 2, 1, 1, 1, 2, 1, 0, 0, 2, 2, 1, 1, 2, 0, 2, 1, 2, 2, 2, 0, 2, 1, 2, 1, 2, 0, 1, 0, 1, 0, 0, 2, 0, 1, 2, 1, 1, 1, 0, 1, 2, 0, 2, 1, 2, 2, 0, 2, 1, 0, 0, 1, 1, 2, 1, 1, 1, 1, 2, 2, 1, 0, 1, 2, 1, 2, 1, 1, 2, 2, 1, 0, 2, 0, 0, 1, 1, 2, 0, 1, 1, 1, 1, 2, 1, 0, 1, 2, 0, 2, 2, 2, 1, 0, 1, 0, 2, 2, 1, 0, 1, 1, 1, 2, 0, 0, 1, 2, 2, 2, 1, 2, 1, 1, 1, 0, 1, 2, 1, 1, 1, 1, 1, 0, 2, 2, 1, 2, 1, 1, 1, 2, 2, 2, 0, 1, 2, 2, 2, 1, 1, 2, 1, 1, 2, 1, 0, 1, 2, 0, 1, 1, 2, 1, 1, 1, 2, 2, 2, 2, 1, 2, 1, 2, 0, 2, 1, 1, 1, 2, 2, 2, 1, 1, 1, 0, 1, 0, 1, 1, 1, 0, 1, 0, 0, 1, 1, 2, 0, 1, 1, 2, 0, 0, 0, 1, 1, 1, 2, 0, 2, 2, 1, 2, 0, 2, 1, 1, 1, 2, 0, 1, 0, 0, 1, 2, 2, 0, 1, 2, 2, 0, 2, 2, 2, 2, 0, 2, 0, 2, 2, 2, 1, 0, 2, 1, 2, 0, 2, 2, 1, 1, 1, 2, 1, 1, 1, 1, 1, 1, 0, 2, 1, 0, 2, 2, 1, 0, 1, 1, 2, 0, 0, 2, 1, 1, 2, 0, 2, 0, 0, 0, 2, 2, 2, 2, 1, 2, 1, 1, 1, 2, 0, 1, 1, 1, 0, 1, 1, 1, 2, 1, 0, 0, 0, 0, 1, 1, 2, 0, 1, 0, 0, 1, 2, 2, 0, 2, 2, 2, 1, 2, 2, 2, 2, 1, 0, 1, 1, 2, 0, 1, 0, 2, 2, 0, 1, 1, 2, 2, 0, 2, 1, 1, 1, 0, 0, 0, 2, 0, 0, 0, 2, 1, 1, 2, 2, 2, 1, 1, 1, 1, 2, 1, 2, 0, 2, 2, 2, 2, 1, 0, 1, 2, 0, 1, 2, 1, 0, 1, 0, 2, 2, 2, 1, 1, 1, 1, 0, 1, 2, 1, 1, 0, 1, 0, 0, 0, 2, 1, 1, 2, 2, 0, 2, 1, 1, 1, 1, 1, 1, 0, 1, 1, 1, 1, 2, 2, 1, 1, 1, 2, 1, 1, 1, 0, 2, 1, 2, 0, 1, 0, 1, 0, 2, 2, 1, 1, 1, 1, 1, 1, 0, 1, 1, 1, 2, 0, 1, 1, 2, 2, 0, 0, 0, 2, 2, 2, 1, 2, 1, 1, 1, 1, 2, 1, 0, 1, 2, 1, 1, 2, 1, 0, 2, 2, 1, 1, 0, 1, 0, 0, 1, 1, 1, 1, 1, 1, 1, 0, 0, 1, 1, 0, 0, 0, 1, 1, 1, 2, 0, 2, 1, 0, 1, 2, 1, 2, 1, 1, 1, 2, 1, 1, 1, 2, 2, 1, 2, 1, 2, 0, 1, 0, 1, 2, 0, 2, 1, 2, 1, 2, 2, 1, 0, 0, 0, 0, 2, 1, 1, 1, 1, 1, 1, 1, 2, 0, 1, 0, 1, 0, 2, 1, 1, 1, 0, 1, 1, 1, 1, 2, 1, 1, 2, 1, 0, 0, 2, 2, 1, 1, 2, 0, 2, 0, 0, 1, 0, 2, 1, 2, 1, 0, 1, 1, 1, 0, 1, 1, 1, 2, 2, 1, 2, 2, 2, 0, 1, 2, 1, 2, 0, 2, 0, 1, 2, 0, 2, 2, 2, 2, 1, 0, 2, 0, 1, 1, 2, 1, 1, 2, 0, 0, 0, 1, 2, 1, 2, 2, 0, 1, 1, 1, 0, 1, 1, 1, 1, 1, 2, 2, 2, 2, 2, 1, 0, 2, 1, 0, 2, 1, 2, 1, 1, 2, 1, 0, 1, 1, 2, 2, 0, 0, 2, 1, 0, 2, 2, 0, 1, 1, 2, 1, 0, 2, 2, 2, 1, 2, 0, 1, 2, 1, 1, 0, 1, 0, 2, 2, 2, 2, 0, 0, 0, 1, 1, 1, 1, 0, 2, 1, 2, 1, 2, 2, 1, 0, 2, 0, 1, 0, 2, 2, 2, 2, 1, 0, 0, 1, 0, 2, 2, 1, 0, 2, 2, 2, 0, 1, 2, 0, 0, 0, 2, 0, 0, 0, 2, 0, 1, 1, 0, 1, 0, 1, 1, 1, 1, 1, 1, 2, 1, 1, 2, 1, 1, 1, 2, 2, 2, 0, 1, 2, 0, 1, 1, 2, 2, 2, 1, 0, 1, 1, 2, 1, 2, 2, 1, 1, 1, 2, 1, 1, 0, 2, 1, 2, 0, 2, 0, 2, 1, 1, 2, 2, 2, 1, 1, 2, 0, 0, 0, 1, 2, 2, 2, 1, 1, 1, 2, 0, 2, 2, 2, 0, 2, 1, 1, 0, 2, 2, 2, 1, 2, 1, 1, 0, 0, 0, 1, 1, 2, 2, 1, 1, 1, 2, 1, 1, 2, 1, 1, 1, 0, 2, 2, 1, 1, 0, 1, 2, 2, 1, 0, 2, 0, 1, 2, 1, 2, 1, 0, 1, 2, 0, 2, 1, 0, 0, 2, 0, 2, 2, 1, 2, 0, 1, 2, 0, 0, 0, 2, 2, 0, 1, 0, 2, 2, 1, 2, 1, 1, 1, 2, 0, 1, 2, 0, 1, 1, 2, 0, 2, 1, 0, 2, 2, 2, 0, 0, 2, 1, 0, 0, 1, 0, 2, 0, 0, 1, 2, 2]\n"
          ]
        }
      ],
      "source": [
        "import csv\n",
        "model = torch.load(PATH)#loading model\n",
        "model.eval()#evaluation mode\n",
        "b = []#to keep track of prediction values\n",
        "count = 0\n",
        "#with torch.no_grad():\n",
        "for x in (test_loader): #iterating through test loader to get predictions\n",
        "    x = x.to(device=device)\n",
        "    score = model(x) #running inputs through model\n",
        "    _, pred = score.max(1) #returning max values of the score for predictions\n",
        "    #print(pred)\n",
        "    new = pred.detach().cpu().tolist() #detaching to be able to append the values to b list\n",
        "    for i in new:\n",
        "      b.append(i)\n",
        "\n",
        "#writing to csv\n",
        "with open('submission1.csv','w',newline='')as csvfile:\n",
        "  Details= ['Id','Category']\n",
        "  thewriter = csv.DictWriter(csvfile, fieldnames=Details)\n",
        "  thewriter.writeheader()\n",
        "  i = 0\n",
        "  for i in range(len(b)):\n",
        "    thewriter.writerow({'Id':count,'Category':b[i]})\n",
        "    count+=1\n",
        "print(b)"
      ]
    },
    {
      "cell_type": "code",
      "execution_count": null,
      "metadata": {
        "colab": {
          "background_save": true
        },
        "id": "WyIqh0YXdsL9",
        "outputId": "3b6f8908-d6e1-47e2-acd7-05d2f417db82"
      },
      "outputs": [
        {
          "name": "stdout",
          "output_type": "stream",
          "text": [
            "torch.Size([3965, 1, 48, 48])\n"
          ]
        },
        {
          "data": {
            "text/plain": [
              "<matplotlib.image.AxesImage at 0x7f54dcb783d0>"
            ]
          },
          "execution_count": 33,
          "metadata": {},
          "output_type": "execute_result"
        },
        {
          "data": {
            "image/png": "[encoded data removed]",
            "text/plain": [
              "<Figure size 432x288 with 1 Axes>"
            ]
          },
          "metadata": {},
          "output_type": "display_data"
        }
      ],
      "source": [
        "X = test_data.x\n",
        "print(X.shape)\n",
        "y = train_data.y\n",
        "plt.imshow(X[0].reshape(48,48), cmap ='gray') #printing out test pictures to verify some of the validation prediction manually"
      ]
    },
    {
      "cell_type": "code",
      "execution_count": null,
      "metadata": {
        "colab": {
          "background_save": true
        },
        "id": "CbaP2GAmtWh0",
        "outputId": "40573104-ea41-4691-cd9b-db558f518d85"
      },
      "outputs": [
        {
          "data": {
            "image/png": "[encoded data removed]",
            "text/plain": [
              "<Figure size 432x288 with 1 Axes>"
            ]
          },
          "metadata": {},
          "output_type": "display_data"
        }
      ],
      "source": [
        "plt.plot(range(num_epoch),loss_list, color = 'b', label='Training Loss')\n",
        "plt.title(\"Loss Function vs Epoch\")\n",
        "plt.ylabel(\"Loss Function\")\n",
        "plt.xlabel(\"Epoch\")\n",
        "plt.show()"
      ]
    }
  ],
  "metadata": {
    "accelerator": "GPU",
    "colab": {
      "collapsed_sections": [],
      "provenance": []
    },
    "gpuClass": "standard",
    "kernelspec": {
      "display_name": "Python 3",
      "name": "python3"
    },
    "language_info": {
      "name": "python"
    }
  },
  "nbformat": 4,
  "nbformat_minor": 0
}
